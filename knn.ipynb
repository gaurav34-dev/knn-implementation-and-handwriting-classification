{
  "nbformat": 4,
  "nbformat_minor": 0,
  "metadata": {
    "colab": {
      "name": "knn.ipynb",
      "provenance": [],
      "collapsed_sections": [],
      "authorship_tag": "ABX9TyMpYNgX3fzuM3kwaothFK8v",
      "include_colab_link": true
    },
    "kernelspec": {
      "name": "python3",
      "display_name": "Python 3"
    }
  },
  "cells": [
    {
      "cell_type": "markdown",
      "metadata": {
        "id": "view-in-github",
        "colab_type": "text"
      },
      "source": [
        "<a href=\"https://colab.research.google.com/github/gbaser54/knn-implementation-and-handwriting-classification/blob/master/knn.ipynb\" target=\"_parent\"><img src=\"https://colab.research.google.com/assets/colab-badge.svg\" alt=\"Open In Colab\"/></a>"
      ]
    },
    {
      "cell_type": "code",
      "metadata": {
        "id": "ulIR8-K-IeKe",
        "colab_type": "code",
        "colab": {
          "base_uri": "https://localhost:8080/",
          "height": 282
        },
        "outputId": "426c02e4-0e71-4873-a363-1c6aed0f9384"
      },
      "source": [
        "\n",
        "import numpy as np\n",
        "import matplotlib.pyplot as plt\n",
        "from sklearn.datasets import make_blobs\n",
        "from sklearn.model_selection import train_test_split\n",
        "data = np.load('/content/sample_data/mnist_train_small (1).npy')\n",
        "X = data[:, 1:]\n",
        "y = data[:, 0]\n",
        "X.shape, y.shape\n",
        "plt.imshow(X[2].reshape(28, 28),cmap='gray')\n",
        "y[2]\n",
        "\n",
        "\n",
        "\n",
        "\n"
      ],
      "execution_count": null,
      "outputs": [
        {
          "output_type": "execute_result",
          "data": {
            "text/plain": [
              "9"
            ]
          },
          "metadata": {
            "tags": []
          },
          "execution_count": 37
        },
        {
          "output_type": "display_data",
          "data": {
            "image/png": "[encoded data removed]",
            "text/plain": [
              "<Figure size 432x288 with 1 Axes>"
            ]
          },
          "metadata": {
            "tags": [],
            "needs_background": "light"
          }
        }
      ]
    },
    {
      "cell_type": "code",
      "metadata": {
        "id": "xEKeUMFAovyU",
        "colab_type": "code",
        "colab": {
          "base_uri": "https://localhost:8080/",
          "height": 350
        },
        "outputId": "e0b9c553-49b8-4eb6-9497-1400ba6b82a3"
      },
      "source": [
        "#import matplotlib.pyplot as plt\n",
        "#from sklearn.datasets import make_blobs\n",
        "X,y = make_blobs(n_samples=100, centers=3,random_state=42)\n",
        "plt.scatter(X[:,0],X[:,1],c=y)\n",
        "X[:5],y[:5]"
      ],
      "execution_count": null,
      "outputs": [
        {
          "output_type": "execute_result",
          "data": {
            "text/plain": [
              "(array([[-7.72642091, -8.39495682],\n",
              "        [ 5.45339605,  0.74230537],\n",
              "        [-2.97867201,  9.55684617],\n",
              "        [ 6.04267315,  0.57131862],\n",
              "        [-6.52183983, -6.31932507]]), array([2, 1, 0, 1, 2]))"
            ]
          },
          "metadata": {
            "tags": []
          },
          "execution_count": 34
        },
        {
          "output_type": "display_data",
          "data": {
            "image/png": "[encoded data removed]",
            "text/plain": [
              "<Figure size 432x288 with 1 Axes>"
            ]
          },
          "metadata": {
            "tags": [],
            "needs_background": "light"
          }
        }
      ]
    },
    {
      "cell_type": "code",
      "metadata": {
        "id": "vDnIg_Z7dTAH",
        "colab_type": "code",
        "colab": {
          "base_uri": "https://localhost:8080/",
          "height": 979
        },
        "outputId": "08c4f2ac-cc98-4d74-da3a-df010bc331ab"
      },
      "source": [
        "#import matplotlib.pyplot as plt\n",
        "#import numpy as np\n",
        "x = np.random.randint(-4, 4, 1000)\n",
        "print(x)\n",
        "out = plt.hist(x, bins=12)"
      ],
      "execution_count": null,
      "outputs": [
        {
          "output_type": "stream",
          "text": [
            "[ 1 -2  1  1  3 -3  3 -4  2  3 -1 -2  3 -1 -4 -1 -1 -4  3 -3  2  0 -1  0\n",
            "  2  1 -3  1 -1  2  1 -2 -2 -2 -3  0  0 -4 -3 -4  2 -1  0  2  1 -2 -2 -2\n",
            " -4 -4 -3 -2  3  1  3  2  0 -1  2  2 -2 -1 -4 -3 -3  1 -4  2  1  0 -4 -4\n",
            "  3  1  2 -4  0  1  2  0  3  1  1 -3 -1  2  1 -1  2 -3 -2  2 -1  0 -1 -2\n",
            "  1 -3  2 -3 -3 -1  2  1 -2  3  2  3  0  2  0  1  3  3 -1  0  3 -4 -4  3\n",
            "  2  2 -1  0 -3  1 -2  1  3 -3 -2 -1 -3 -3  2  1  3 -4  1 -1 -2  2  0  3\n",
            " -2 -1 -4 -2  1  1  2  0  3 -2 -2 -2 -4  3 -1 -1 -3  0  1  1 -3  0  3 -3\n",
            " -1  1 -1  2 -2 -4 -1  0 -4  2 -1 -3  1 -2  0  0  1 -2  3  3  0  0  0  0\n",
            "  2 -3  0  2 -4  0 -2 -2 -2 -3  2 -4  2  1 -3  3 -2 -3 -4  2  0  1  2 -2\n",
            " -3  3 -4  0  0  3 -4 -4  0  1 -3 -4 -4 -4 -1 -4 -1  2 -3 -4  3  2  1 -1\n",
            " -1  0  3  2  1 -3  3  3 -2 -3 -4  1 -2  1  2  0  1 -3  0  2 -4  1 -2 -2\n",
            " -4  2 -1 -3  0 -3  0 -4 -3  1 -3  0 -2 -3  0  0  1  0 -4 -4  0 -1  1  1\n",
            "  2 -3 -3 -2 -1  2 -4  1  3 -4 -4 -4 -1  2 -1  1  2  1 -1 -3  2  0 -1  3\n",
            "  3 -1 -4 -2 -4  3 -3 -1 -4 -1  3 -1 -3  1  1  3  3  0 -1 -1 -3 -3  2  3\n",
            " -2 -2  3 -3 -2  1 -3 -3 -4 -1  1 -1  0  2  0  1  3  0 -1  2  0  1  3  3\n",
            " -4  3 -3  3  0 -2 -2 -4  0  1  3 -1  1  3  0 -4 -3 -4  3 -1 -2 -2 -1  2\n",
            "  2 -4 -2  1 -3 -4 -2 -3 -1  1 -1  3  3  0  2  3 -1  1 -2 -3  3 -4  0  2\n",
            "  1  2  1 -4  0  0 -2  1 -3  3  2 -2  0 -4 -1 -4  2  0  0  1 -1  0  2 -4\n",
            " -3  3  3  2 -2 -3 -1  1 -4  3  1  0 -1 -4  2 -2  3  0 -2 -3 -4 -3 -2  3\n",
            " -3  3  2  2  3  0  2 -2 -2 -3  0 -2  2 -4  3  0  1 -3 -1  1 -1  3 -3 -2\n",
            "  1  0 -3  1  0  1  3 -4 -2 -4  1 -3 -1  2 -1  3 -4  0 -3  1 -1  3 -1 -4\n",
            " -3  1  1 -4  1  2 -4 -4 -3  1 -4 -2 -4  0  3 -4  3 -1 -1  3  0  0  2  3\n",
            "  2 -1  1 -1  2  0 -1 -4  0 -3 -1 -1 -1 -3  1  2 -4  2  1  0 -4 -1  3  2\n",
            " -1  0  0 -2  2 -2 -4 -3 -2  0 -1 -1 -4  0 -3 -4 -3 -2  0 -3  3 -4  3  1\n",
            "  2  3 -3  1  3  0  0 -4 -3 -1  0  3  2 -1  0  1 -4 -4 -1  3  1  1  3  3\n",
            " -3  3  2  0 -1  0  0  2  0 -4 -4 -3  2  2  1  3 -2  0  1 -4  0 -3  1  0\n",
            " -1  2  0  2  1 -4 -4  3 -2 -4  2 -1  0  0  1  3 -1 -3 -3 -1  1 -3 -3 -1\n",
            " -4 -1 -4  2 -3 -4 -4 -4 -3 -1  2  1  1 -3  3 -2  0 -3  2 -2  0  3  2  3\n",
            "  3 -1  1 -2 -3  1  3 -1 -1 -4  1 -1  1 -4 -3 -3  1  1  2 -2  2  3 -4  3\n",
            "  3  1 -1  2 -2 -1 -3  1 -3  0 -3  1  3  1 -3  2  3 -3  3  1 -4  3  0 -1\n",
            " -3 -3 -3  1 -3 -2 -3 -2 -2 -1  0  0  2  1 -2 -2  0  2  1  2  0 -2 -2  0\n",
            " -1  0  1 -4 -3  2  1  1 -1 -3  1 -2 -1  0 -3 -1 -2  1  0 -1  0  1 -2 -2\n",
            "  1 -4 -4 -3 -3  1  1  0  0 -1 -2  2 -4  3  3 -1 -4  0 -4 -1 -3 -3 -2  1\n",
            "  2 -3  2 -4  0  1 -4 -1  2  1  3 -1  1 -2 -3 -1  1 -1 -1 -4  3  1 -1  2\n",
            "  1  0 -3 -3 -2 -1  1 -3  2 -1  3  3  1  2  2  1  1 -1  3  0  2  0 -4  3\n",
            "  2  1 -1 -3  3 -1  0 -3  2 -3 -1 -2 -4 -1 -3 -2  2 -2  2  3 -1 -2  3 -2\n",
            " -2 -3  1  2 -4 -1  2 -3  2 -3 -2 -1 -4 -4 -2  2  3 -3 -4 -1 -3  2 -2  3\n",
            "  1  2 -2 -2 -1  1 -2 -4  2 -4 -1  3 -2  2  2 -2  2 -2  2  3 -1  1 -3  2\n",
            " -4 -1 -3 -4  2 -3 -3  1 -2  2 -1 -2 -3  2  3 -4 -2  0 -3 -2 -1 -3  0 -2\n",
            " -1  3 -3 -4 -2 -4  3  1  2 -3 -3 -3  1 -2 -1  0 -3  1  0  0 -4 -2  3  3\n",
            "  1 -2 -4  2  1 -3 -3  0  3  0  3 -2  1 -4  2 -4 -1  0 -2  3 -2 -2  2 -4\n",
            "  1 -4 -4 -4  0  1  2 -3  0 -4 -1 -4 -2  2  2 -2]\n"
          ],
          "name": "stdout"
        },
        {
          "output_type": "display_data",
          "data": {
            "image/png": "[encoded data removed]",
            "text/plain": [
              "<Figure size 432x288 with 1 Axes>"
            ]
          },
          "metadata": {
            "tags": [],
            "needs_background": "light"
          }
        }
      ]
    },
    {
      "cell_type": "code",
      "metadata": {
        "id": "N8T5kGbnaJLu",
        "colab_type": "code",
        "colab": {
          "base_uri": "https://localhost:8080/",
          "height": 34
        },
        "outputId": "3e946ff3-6ad3-493c-e128-1c71ffc3ff24"
      },
      "source": [
        "X_train, X_test, y_train, y_test = train_test_split(\n",
        "...     X, y, test_size=0.33, random_state=42)           #splitting the data in 2 parts test_data =33% and train_data=67%\n",
        "X_train.shape,y_train.shape\n",
        "X_test.shape,y_test.shape\n"
      ],
      "execution_count": null,
      "outputs": [
        {
          "output_type": "execute_result",
          "data": {
            "text/plain": [
              "((6600, 784), (6600,))"
            ]
          },
          "metadata": {
            "tags": []
          },
          "execution_count": 40
        }
      ]
    },
    {
      "cell_type": "code",
      "metadata": {
        "id": "xUY4db5AgDYo",
        "colab_type": "code",
        "colab": {
          "base_uri": "https://localhost:8080/",
          "height": 34
        },
        "outputId": "17609320-92dc-4d1c-ef8f-bcc19365b3ca"
      },
      "source": [
        "#inbuilt knn class\n",
        "\n",
        "from sklearn.neighbors import KNeighborsClassifier\n",
        "model = KNeighborsClassifier()\n",
        "# training the model happens in fit function\n",
        "# plotting the points on the graph\n",
        "# no work is happening in traingin knn model\n",
        "model.fit(X_train, y_train)\n",
        "model.predict(X_test[:10])\n",
        "\n"
      ],
      "execution_count": 48,
      "outputs": [
        {
          "output_type": "execute_result",
          "data": {
            "text/plain": [
              "array([1, 7, 0, 9, 4, 5, 4, 6, 9, 2], dtype=uint8)"
            ]
          },
          "metadata": {
            "tags": []
          },
          "execution_count": 48
        }
      ]
    },
    {
      "cell_type": "code",
      "metadata": {
        "id": "c6w1VxlTiIfp",
        "colab_type": "code",
        "colab": {
          "base_uri": "https://localhost:8080/",
          "height": 34
        },
        "outputId": "f74aa059-5fdb-465b-b7ed-3a14af41014b"
      },
      "source": [
        "y_test[:10]\n"
      ],
      "execution_count": null,
      "outputs": [
        {
          "output_type": "execute_result",
          "data": {
            "text/plain": [
              "array([7, 7, 0, 9, 4, 5, 4, 6, 9, 2], dtype=uint8)"
            ]
          },
          "metadata": {
            "tags": []
          },
          "execution_count": 43
        }
      ]
    },
    {
      "cell_type": "code",
      "metadata": {
        "id": "0xqoMEJfk-5U",
        "colab_type": "code",
        "colab": {
          "base_uri": "https://localhost:8080/",
          "height": 282
        },
        "outputId": "403ad924-7249-400e-fddb-1ca4f23026a4"
      },
      "source": [
        "plt.imshow(X_test[2].reshape(28, 28), cmap='gray')"
      ],
      "execution_count": 49,
      "outputs": [
        {
          "output_type": "execute_result",
          "data": {
            "text/plain": [
              "<matplotlib.image.AxesImage at 0x7fa8a9f2fbe0>"
            ]
          },
          "metadata": {
            "tags": []
          },
          "execution_count": 49
        },
        {
          "output_type": "display_data",
          "data": {
            "image/png": "[encoded data removed]",
            "text/plain": [
              "<Figure size 432x288 with 1 Axes>"
            ]
          },
          "metadata": {
            "tags": [],
            "needs_background": "light"
          }
        }
      ]
    },
    {
      "cell_type": "code",
      "metadata": {
        "id": "oOKSWWu_mDle",
        "colab_type": "code",
        "colab": {
          "base_uri": "https://localhost:8080/",
          "height": 34
        },
        "outputId": "cf06c163-a6f1-4df6-9a55-3147755900dc"
      },
      "source": [
        "model.score(X_test[:100], y_test[:100])"
      ],
      "execution_count": 50,
      "outputs": [
        {
          "output_type": "execute_result",
          "data": {
            "text/plain": [
              "0.95"
            ]
          },
          "metadata": {
            "tags": []
          },
          "execution_count": 50
        }
      ]
    },
    {
      "cell_type": "code",
      "metadata": {
        "id": "l-jkIOaAnEtb",
        "colab_type": "code",
        "colab": {}
      },
      "source": [
        "#Custom KNN - Our own KNN implementation from scratch!\n",
        "\n",
        "class CustomKNN:\n",
        "    # constructor\n",
        "    def __init__(self, n_neighbours=5):\n",
        "        self.n_neighbours = n_neighbours\n",
        "        \n",
        "    # training function\n",
        "    def fit(self, X, y):\n",
        "        self._X = (X - X.mean()) / X.std() # standardisation\n",
        "        self._y = y\n",
        "    \n",
        "    # predict point\n",
        "    # given a single point, tell me which class it belongs to \n",
        "    def predict_point(self, point):\n",
        "        # storing the dis of given 'point' from each point in training data\n",
        "        list_dist = []\n",
        "        \n",
        "        # these points are from my training data\n",
        "        for x_point, y_point in zip(self._X, self._y):\n",
        "            dist_point = ((point - x_point) ** 2).sum()\n",
        "            list_dist.append([dist_point, y_point])\n",
        "        \n",
        "        ## sorting the list according to the distance\n",
        "        sorted_dist = sorted(list_dist)\n",
        "        top_k = sorted_dist[:self.n_neighbours]\n",
        "        \n",
        "        # taking the count \n",
        "        items, counts = np.unique(np.array(top_k)[:, 1], return_counts=True)\n",
        "        ans = items[np.argmax(counts)]\n",
        "        return ans\n",
        "            \n",
        "    # predict\n",
        "    # give me answer for each number in the array\n",
        "    def predict(self, X):\n",
        "        results = []\n",
        "        X = (X - X.mean()) / X.std() \n",
        "        for point in X:\n",
        "            results.append(self.predict_point(point))\n",
        "        return np.array(results, dtype=int)\n",
        "    \n",
        "    # score to measure my accuracy\n",
        "    def score(self, X, y):\n",
        "        return sum(self.predict(X) == y) / len(y)"
      ],
      "execution_count": 51,
      "outputs": []
    },
    {
      "cell_type": "code",
      "metadata": {
        "id": "ztBcF6DHr8w7",
        "colab_type": "code",
        "colab": {
          "base_uri": "https://localhost:8080/",
          "height": 34
        },
        "outputId": "70148814-da7f-408a-dfb5-b28ed09a8028"
      },
      "source": [
        "\n",
        "m2 = CustomKNN()\n",
        "m2.fit(X_train, y_train)\n",
        "m2.predict(X_test[:10])\n",
        "\n",
        "y_test[:10]\n",
        "\n",
        "m2.score(X_test[:100], y_test[:100])"
      ],
      "execution_count": 52,
      "outputs": [
        {
          "output_type": "execute_result",
          "data": {
            "text/plain": [
              "0.95"
            ]
          },
          "metadata": {
            "tags": []
          },
          "execution_count": 52
        }
      ]
    },
    {
      "cell_type": "code",
      "metadata": {
        "id": "_Pb1jQvSs4s4",
        "colab_type": "code",
        "colab": {
          "base_uri": "https://localhost:8080/",
          "height": 34
        },
        "outputId": "37a6a136-a5fa-4dcd-a946-a8b0d219e8c6"
      },
      "source": [
        "#just for practice\n",
        "li = [ \n",
        "    [23, 0],\n",
        "    [45, 1],\n",
        "    [19, 0],\n",
        "    [3, 2],\n",
        "    [10, 0],\n",
        "    [34, 2],\n",
        "    [100, 1]\n",
        "]\n",
        "sorted_li = sorted(li)\n",
        "top_k = sorted_li[:5]\n",
        "top_k"
      ],
      "execution_count": 55,
      "outputs": [
        {
          "output_type": "execute_result",
          "data": {
            "text/plain": [
              "[[3, 2], [10, 0], [19, 0], [23, 0], [34, 2]]"
            ]
          },
          "metadata": {
            "tags": []
          },
          "execution_count": 55
        }
      ]
    },
    {
      "cell_type": "code",
      "metadata": {
        "id": "gTWoxX7QtW7L",
        "colab_type": "code",
        "colab": {
          "base_uri": "https://localhost:8080/",
          "height": 34
        },
        "outputId": "6932878c-bfc5-4044-a2c0-5324c3c1d0d9"
      },
      "source": [
        "li, counts = np.unique(np.array(top_k)[:, 1], return_counts=True)\n",
        "li, counts"
      ],
      "execution_count": 57,
      "outputs": [
        {
          "output_type": "execute_result",
          "data": {
            "text/plain": [
              "(array([0, 2]), array([3, 2]))"
            ]
          },
          "metadata": {
            "tags": []
          },
          "execution_count": 57
        }
      ]
    }
  ]
}